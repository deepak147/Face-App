{
 "cells": [
  {
   "cell_type": "code",
   "execution_count": 11,
   "metadata": {
    "id": "TWkQvDfRbrCc"
   },
   "outputs": [],
   "source": [
    "import tensorflow as tf\n",
    "from keras.preprocessing.image import ImageDataGenerator\n",
    "from keras.callbacks import EarlyStopping"
   ]
  },
  {
   "cell_type": "code",
   "execution_count": 12,
   "metadata": {
    "colab": {
     "base_uri": "https://localhost:8080/",
     "height": 36
    },
    "id": "s13GQufcJA5b",
    "outputId": "70fbf57b-f717-4810-9dd6-58bc3bc2cf2d"
   },
   "outputs": [
    {
     "data": {
      "text/plain": [
       "'2.8.0'"
      ]
     },
     "execution_count": 12,
     "metadata": {},
     "output_type": "execute_result"
    }
   ],
   "source": [
    "tf.__version__"
   ]
  },
  {
   "cell_type": "code",
   "execution_count": 13,
   "metadata": {
    "id": "Khlrf26eSZir"
   },
   "outputs": [
    {
     "name": "stdout",
     "output_type": "stream",
     "text": [
      "Found 18965 images belonging to 2 classes.\n"
     ]
    }
   ],
   "source": [
    "train_datagen = ImageDataGenerator(\n",
    "        rescale=1./255,\n",
    "        shear_range=0.2,\n",
    "        zoom_range=0.2,\n",
    "        horizontal_flip=True)\n",
    "\n",
    "training_set = train_datagen.flow_from_directory(\n",
    "        'gender_dataset/train',\n",
    "        target_size=(128, 128),\n",
    "        batch_size=32,\n",
    "        class_mode='binary')"
   ]
  },
  {
   "cell_type": "code",
   "execution_count": 14,
   "metadata": {
    "id": "7_H1-hZ8SafA"
   },
   "outputs": [
    {
     "name": "stdout",
     "output_type": "stream",
     "text": [
      "Found 4743 images belonging to 2 classes.\n"
     ]
    }
   ],
   "source": [
    "test_datagen = ImageDataGenerator(\n",
    "    rescale = 1./255\n",
    ")\n",
    "\n",
    "test_set = test_datagen.flow_from_directory(\n",
    "    'gender_dataset/test',\n",
    "    target_size=(128, 128),\n",
    "    batch_size=32,\n",
    "    class_mode='binary'\n",
    ")"
   ]
  },
  {
   "cell_type": "code",
   "execution_count": 15,
   "metadata": {
    "id": "25WGztMwS0p5"
   },
   "outputs": [],
   "source": [
    "cnn = tf.keras.models.Sequential()"
   ]
  },
  {
   "cell_type": "code",
   "execution_count": 16,
   "metadata": {
    "id": "V1ZevEqIXz3U"
   },
   "outputs": [],
   "source": [
    "#input layer\n",
    "cnn.add(tf.keras.layers.Conv2D(filters = 36, kernel_size = 3, activation = 'relu', input_shape = (128, 128, 3)))\n",
    "cnn.add(tf.keras.layers.MaxPool2D(pool_size = 3, strides = 2))\n",
    "\n",
    "cnn.add(tf.keras.layers.Conv2D(filters = 64, kernel_size = 3, activation = 'relu', input_shape = (128, 128, 3)))\n",
    "cnn.add(tf.keras.layers.MaxPool2D(pool_size = 3, strides = 2))\n",
    "\n",
    "cnn.add(tf.keras.layers.Conv2D(filters = 128, kernel_size = 3, activation = 'relu', input_shape = (128, 128, 3)))\n",
    "cnn.add(tf.keras.layers.MaxPool2D(pool_size = 3, strides = 2))\n",
    "\n",
    "cnn.add(tf.keras.layers.Conv2D(filters = 256, kernel_size = 3, activation = 'relu', input_shape = (128, 128, 3)))\n",
    "cnn.add(tf.keras.layers.MaxPool2D(pool_size = 3, strides = 2))\n",
    "\n",
    "cnn.add(tf.keras.layers.Conv2D(filters = 512, kernel_size = 3, activation = 'relu', input_shape = (128, 128, 3)))\n",
    "cnn.add(tf.keras.layers.MaxPool2D(pool_size = 3, strides = 2))\n",
    "\n",
    "cnn.add(tf.keras.layers.Flatten())\n",
    "cnn.add(tf.keras.layers.Dropout(0.2))\n",
    "cnn.add(tf.keras.layers.Dense(units = 512, activation = 'relu'))\n",
    "cnn.add(tf.keras.layers.Dense(units = 512, activation = 'relu'))\n",
    "\n",
    "cnn.add(tf.keras.layers.Dense(units = 1, activation = 'sigmoid'))"
   ]
  },
  {
   "cell_type": "code",
   "execution_count": 17,
   "metadata": {
    "id": "kvqPNXUDaOpN"
   },
   "outputs": [],
   "source": [
    "cnn.compile(optimizer = tf.keras.optimizers.Adam(learning_rate=0.0001), loss = 'binary_crossentropy', metrics = 'accuracy')"
   ]
  },
  {
   "cell_type": "code",
   "execution_count": 18,
   "metadata": {
    "id": "0YXrsJqedSQp"
   },
   "outputs": [
    {
     "name": "stdout",
     "output_type": "stream",
     "text": [
      "Epoch 1/25\n",
      "593/593 [==============================] - 351s 591ms/step - loss: 0.5982 - accuracy: 0.6593 - val_loss: 0.4406 - val_accuracy: 0.7984\n",
      "Epoch 2/25\n",
      "593/593 [==============================] - 330s 556ms/step - loss: 0.4130 - accuracy: 0.8151 - val_loss: 0.3280 - val_accuracy: 0.8649\n",
      "Epoch 3/25\n",
      "593/593 [==============================] - 329s 555ms/step - loss: 0.3458 - accuracy: 0.8503 - val_loss: 0.3699 - val_accuracy: 0.8379\n",
      "Epoch 4/25\n",
      "593/593 [==============================] - 331s 558ms/step - loss: 0.3103 - accuracy: 0.8642 - val_loss: 0.2700 - val_accuracy: 0.8893\n",
      "Epoch 5/25\n",
      "593/593 [==============================] - 309s 521ms/step - loss: 0.2913 - accuracy: 0.8752 - val_loss: 0.2831 - val_accuracy: 0.8769\n",
      "Epoch 6/25\n",
      "593/593 [==============================] - 314s 530ms/step - loss: 0.2779 - accuracy: 0.8807 - val_loss: 0.2739 - val_accuracy: 0.8834\n",
      "Epoch 7/25\n",
      "593/593 [==============================] - 324s 546ms/step - loss: 0.2643 - accuracy: 0.8824 - val_loss: 0.2456 - val_accuracy: 0.8965\n",
      "Epoch 8/25\n",
      "593/593 [==============================] - 323s 545ms/step - loss: 0.2514 - accuracy: 0.8897 - val_loss: 0.2418 - val_accuracy: 0.9009\n",
      "Epoch 9/25\n",
      "593/593 [==============================] - 363s 612ms/step - loss: 0.2454 - accuracy: 0.8929 - val_loss: 0.2204 - val_accuracy: 0.9104\n",
      "Epoch 10/25\n",
      "593/593 [==============================] - 330s 557ms/step - loss: 0.2404 - accuracy: 0.8943 - val_loss: 0.2458 - val_accuracy: 0.8980\n",
      "Epoch 11/25\n",
      "593/593 [==============================] - 393s 663ms/step - loss: 0.2345 - accuracy: 0.8963 - val_loss: 0.2687 - val_accuracy: 0.8843\n",
      "Epoch 12/25\n",
      "593/593 [==============================] - 431s 727ms/step - loss: 0.2269 - accuracy: 0.8994 - val_loss: 0.2212 - val_accuracy: 0.9104\n",
      "Epoch 13/25\n",
      "593/593 [==============================] - 323s 545ms/step - loss: 0.2220 - accuracy: 0.9031 - val_loss: 0.2295 - val_accuracy: 0.9015\n",
      "Epoch 13: early stopping\n"
     ]
    },
    {
     "data": {
      "text/plain": [
       "<keras.callbacks.History at 0x173f5332c40>"
      ]
     },
     "execution_count": 18,
     "metadata": {},
     "output_type": "execute_result"
    }
   ],
   "source": [
    "early_stopping = EarlyStopping(monitor='val_loss', mode='min', verbose=1, patience=4)\n",
    "\n",
    "cnn.fit(x = training_set, validation_data = test_set, epochs = 25, callbacks = [early_stopping])"
   ]
  },
  {
   "cell_type": "code",
   "execution_count": 19,
   "metadata": {},
   "outputs": [],
   "source": [
    "cnn.save(\"gender_model.h5\")"
   ]
  },
  {
   "cell_type": "code",
   "execution_count": 27,
   "metadata": {
    "id": "EuljETeekQat"
   },
   "outputs": [
    {
     "name": "stdout",
     "output_type": "stream",
     "text": [
      "{'female': 0, 'male': 1}\n",
      "female\n"
     ]
    }
   ],
   "source": [
    "import numpy as np\n",
    "from keras.preprocessing import image as img\n",
    "from keras.models import load_model\n",
    "test_image = img.load_img('female_3500.jpg', target_size = (128, 128))\n",
    "test_image = img.img_to_array(test_image)\n",
    "test_image = np.expand_dims(test_image, axis = 0)\n",
    "cnn=load_model('gender_model.h5')\n",
    "result = cnn.predict(test_image)\n",
    "print(training_set.class_indices)\n",
    "\n",
    "if result[0][0] == 1:\n",
    "    prediction = 'male'\n",
    "else:\n",
    "    prediction = 'female'\n",
    "\n",
    "print(prediction)"
   ]
  },
  {
   "cell_type": "code",
   "execution_count": null,
   "metadata": {},
   "outputs": [],
   "source": []
  }
 ],
 "metadata": {
  "colab": {
   "collapsed_sections": [],
   "name": "convolutional_neural_network.ipynb",
   "provenance": []
  },
  "kernelspec": {
   "display_name": "Python 3",
   "language": "python",
   "name": "python3"
  },
  "language_info": {
   "codemirror_mode": {
    "name": "ipython",
    "version": 3
   },
   "file_extension": ".py",
   "mimetype": "text/x-python",
   "name": "python",
   "nbconvert_exporter": "python",
   "pygments_lexer": "ipython3",
   "version": "3.8.8"
  }
 },
 "nbformat": 4,
 "nbformat_minor": 1
}
